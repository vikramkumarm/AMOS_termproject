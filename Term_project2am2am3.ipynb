{
 "cells": [
  {
   "cell_type": "markdown",
   "metadata": {},
   "source": [
    "###                                    TERM PROJECT ON:\n",
    "#                    Buckling of a Simply Supported Rectangular Plate under Bending and Compression"
   ]
  },
  {
   "cell_type": "markdown",
   "metadata": {},
   "source": [
    " __INTRODUCTION__ <br>\n",
    "Steel plates are widely used in buildings, bridges, automobile, ships etc. and unlike beams which  have lengths longer than the other two dimensions and so are modeled as linear members, steel plates have widths comparable to their lengths and so are modeled as two-dimensional plane members. These plates undergo instability in the form of buckling and tends to buckle out of their plane under membrane compression. This buckled shape depends on loading and support conditions in both length and width.<br>\n",
    "In this work we aim to find critical loading for a simply suported rectangular plate under both compression and bending."
   ]
  },
  {
   "attachments": {
    "rect.png": {
     "image/png": "[encoded data removed]"
    }
   },
   "cell_type": "markdown",
   "metadata": {},
   "source": [
    "__Problem Statement__<br>\n",
    "A simply supported rectangular plate (on all sides) (Fig.1) is considered with axes as shown. The distributed forces are shown in Fig.1 along the sides x=0 and x=a. The distributed force is acting in the middle plane of the plate , the intensity of the applied forces is given by<br><br>\n",
    "$$N_x = N_o(1-\\frac{\\alpha y}{b}) \\tag{a}$$<br>\n",
    "![rect.png](attachment:rect.png)<br>\n",
    "where,<br>\n",
    "$N_o$ is the intensity of compressive force at the edge y = 0 and $\\alpha$ is a numerical factor. By changing the value for $\\alpha$ we can obtain particular cases, for example for $\\alpha$=0 we obtain UDL compressive force, for $\\alpha$=2 we have Pure bending.<br> If α<0 we have a combination of bending and compression and if α>0, there will be a similar combination of bending and tension.<br>\n",
    "Our aim is to "
   ]
  },
  {
   "cell_type": "code",
   "execution_count": 1,
   "metadata": {},
   "outputs": [],
   "source": [
    "import sympy as sym"
   ]
  },
  {
   "cell_type": "markdown",
   "metadata": {},
   "source": [
    "The Föppl-von Kármán first equation is<br>\n",
    "$$D\\nabla^4 w = q + N_x\\frac{\\partial^2{w}}{\\partial x^2} + N_y\\frac{\\partial^2{w}}{\\partial y^2} -2N_{xy}\\frac{\\partial^2{w}}{\\partial x\\partial y} \\tag{1}$$\n",
    "For our uniaxial comperssion problem we have $N_{xy}=0 , N_y=0$ and q=0<br>\n",
    "Hence our governing equation is given as <br>\n",
    "$$D\\nabla^4 w = N_x\\frac{\\partial^2{w}}{\\partial x^2} \\tag{2}$$"
   ]
  },
  {
   "cell_type": "markdown",
   "metadata": {},
   "source": [
    "The deflection of the buckled plate simply supported on all sides can be\n",
    "taken in the form of the double trigonometric series\n",
    "$$w = \\sum\\limits_{m=1} ^{\\infty}\\sum\\limits_{n=1} ^{\\infty}a_{mn}\\sin\\frac{m\\pi x}{a}\\sin\\frac{n\\pi y}{b}$$<br>\n",
    "We assume m half-waves along x-axis hence the deflection of plate expression becomes<br>\n",
    "$$w = \\sum\\limits_{n=1} ^{\\infty}\\sin\\frac{m\\pi x}{a}a_{mn}\\sin\\frac{n\\pi y}{b} \\tag{3}$$<br>"
   ]
  },
  {
   "cell_type": "markdown",
   "metadata": {},
   "source": [
    "Defining deflection of buckled plate $w$"
   ]
  },
  {
   "cell_type": "code",
   "execution_count": 2,
   "metadata": {},
   "outputs": [
    {
     "data": {
      "text/latex": [
       "$\\displaystyle w = \\sum\\limits_{n=1} ^{\\infty} a_{mn} \\sin{\\left(\\frac{\\pi m x}{a} \\right)} \\sin{\\left(\\frac{\\pi n y}{b} \\right)}$"
      ],
      "text/plain": [
       "<IPython.core.display.Math object>"
      ]
     },
     "metadata": {},
     "output_type": "display_data"
    }
   ],
   "source": [
    "D, Nx,No, x, y = sym.symbols('D,N_x,N_o,x,y')\n",
    "a,b = sym.symbols('a,b',positive=True)\n",
    "Amn,m,n = sym.symbols('a_mn,m,n')\n",
    "w = Amn*sym.sin(m*sym.pi*x/a)*sym.sin(n*sym.pi*y/b)\n",
    "from IPython.display import Math\n",
    "display(Math(r'w = \\sum\\limits_{{n=1}} ^{{\\infty}} {}'.format(sym.latex(w))))"
   ]
  },
  {
   "cell_type": "code",
   "execution_count": 3,
   "metadata": {},
   "outputs": [],
   "source": [
    "def laplacian(f):\n",
    "    return sym.diff(f,x,2)+sym.diff(f,y,2)\n",
    "\n",
    "def biharmonic(f):\n",
    "    return laplacian(laplacian(f))"
   ]
  },
  {
   "cell_type": "markdown",
   "metadata": {},
   "source": [
    "Solving the governing equation equation (2) for this $w$"
   ]
  },
  {
   "cell_type": "code",
   "execution_count": 4,
   "metadata": {},
   "outputs": [
    {
     "data": {
      "text/latex": [
       "$\\displaystyle LHS = \\sum\\limits_{n=1} ^{\\infty}  (\\frac{\\pi^{4} a_{mn} \\left(a^{2} n^{2} + b^{2} m^{2}\\right)^{2} \\sin{\\left(\\frac{\\pi m x}{a} \\right)} \\sin{\\left(\\frac{\\pi n y}{b} \\right)}}{a^{4} b^{4}})$"
      ],
      "text/plain": [
       "<IPython.core.display.Math object>"
      ]
     },
     "metadata": {},
     "output_type": "display_data"
    }
   ],
   "source": [
    "lhs = biharmonic(w)\n",
    "display(Math(r'LHS = \\sum\\limits_{{n=1}} ^{{\\infty}}  ({})'.format(sym.latex(lhs.simplify()))))"
   ]
  },
  {
   "cell_type": "code",
   "execution_count": 5,
   "metadata": {},
   "outputs": [
    {
     "data": {
      "text/latex": [
       "$\\displaystyle N_x = N_{o} \\left(- \\frac{\\alpha y}{b} + 1\\right)$"
      ],
      "text/plain": [
       "<IPython.core.display.Math object>"
      ]
     },
     "metadata": {},
     "output_type": "display_data"
    }
   ],
   "source": [
    "alpha = sym.symbols('alpha')\n",
    "Nx = No*(1-alpha*y/b)\n",
    "Nx\n",
    "display(Math(r'N_x = {}'.format(sym.latex(Nx))))"
   ]
  },
  {
   "cell_type": "code",
   "execution_count": 6,
   "metadata": {
    "scrolled": true
   },
   "outputs": [
    {
     "data": {
      "text/latex": [
       "$\\displaystyle RHS = \\sum\\limits_{n=1} ^{\\infty}  (\\frac{\\pi^{2} N_{o} a_{mn} m^{2} \\left(\\alpha y - b\\right) \\sin{\\left(\\frac{\\pi m x}{a} \\right)} \\sin{\\left(\\frac{\\pi n y}{b} \\right)}}{a^{2} b})$"
      ],
      "text/plain": [
       "<IPython.core.display.Math object>"
      ]
     },
     "metadata": {},
     "output_type": "display_data"
    }
   ],
   "source": [
    "rhs = Nx*sym.diff(w,x,2)\n",
    "display(Math(r'RHS = \\sum\\limits_{{n=1}} ^{{\\infty}}  ({})'.format(sym.latex(rhs.simplify()))))"
   ]
  },
  {
   "cell_type": "markdown",
   "metadata": {},
   "source": [
    "Solving the $LHS=RHS$ equation manually we arrive at the equation<br>\n",
    "$$\\sum\\limits_{{n=1}} ^{{\\infty}}((\\frac{m\\pi}{a})^2 + (\\frac{n\\pi}{b})^2)^2 a_{mn} \\sin\\frac{n\\pi y}{b} = \\sum\\limits_{{n=1}} ^{{\\infty}}\\frac{N_o}{D}(\\frac{m\\pi}{a})^2(1-\\alpha\\frac{y}{b})a_{mn}\\sin\\frac{n\\pi y}{b}$$<br>\n",
    "Multiplying both sides by $\\sin\\frac{p\\pi y}{b}$ and integrating wrt 'y' we get"
   ]
  },
  {
   "cell_type": "markdown",
   "metadata": {},
   "source": [
    "$$\\int_{y=0}^b\\sum\\limits_{{n=1}} ^{{\\infty}}((\\frac{m\\pi}{a})^2 + (\\frac{n\\pi}{b})^2)^2 a_{mn} \\sin\\frac{n\\pi y}{b}\\sin\\frac{p\\pi y}{b} dy = \\int_{y=0}^b\\sum\\limits_{{n=1}} ^{{\\infty}}\\frac{N_o}{D}(\\frac{m\\pi}{a})^2(1-\\alpha\\frac{y}{b})a_{mn}\\sin\\frac{n\\pi y}{b}\\sin\\frac{p\\pi y}{b}dy \\tag{4}$$"
   ]
  },
  {
   "cell_type": "markdown",
   "metadata": {},
   "source": [
    "Using the following equations to simplify above equation<br>\n",
    "$\\int_{y=0}^b\\sin\\frac{n\\pi y}{b}\\sin\\frac{p\\pi y}{b} dy = 0  \\forall p \\neq n\\tag{b}$ <br> \n",
    "and <br>\n",
    "$\\int_{y=0}^b\\sin\\frac{n\\pi y}{b}\\sin\\frac{p\\pi y}{b} dy= \\frac{b}{2} \tfor p = n \\tag{c}$ <br>"
   ]
  },
  {
   "cell_type": "markdown",
   "metadata": {},
   "source": [
    "For all $n \\neq p$ LHS of eq(4) becomes $0$<br>\n",
    "and for $n = p$ LHS will become<br>\n",
    "$$LHS = ((\\frac{m\\pi}{a})^2 + (\\frac{p\\pi}{b})^2)^2 a_{mp}\\frac{b}{2}$$"
   ]
  },
  {
   "cell_type": "markdown",
   "metadata": {},
   "source": [
    "Now, solving the RHS of the eq(4)<br>\n",
    "$$RHS = \\int_{y=0}^b\\sum\\limits_{{n=1}} ^{{\\infty}}\\frac{N_o}{D}(\\frac{m\\pi}{a})^2a_{mn}\\sin\\frac{n\\pi y}{b}\\sin\\frac{p\\pi y}{b}dy - \\int_{y=0}^b\\sum\\limits_{{n=1}} ^{{\\infty}}\\frac{N_o}{D}\n",
    "(\\frac{m\\pi}{a})^2\\alpha\\frac{y}{b}a_{mn}\\sin\\frac{n\\pi y}{b}\\sin\\frac{p\\pi y}{b}dy $$<br>\n",
    "Now for simplicity in calculations we solve the two integrations in RHS individually as $RHS =  RHS1 - RHS2$"
   ]
  },
  {
   "cell_type": "markdown",
   "metadata": {},
   "source": [
    "Solving for $RHS1$<br>\n",
    "$RHS1 = \\int_{y=0}^b\\sum\\limits_{{n=1}} ^{{\\infty}}\\frac{N_o}{D}(\\frac{m\\pi}{a})^2a_{mn}\\sin\\frac{n\\pi y}{b}\\sin\\frac{p\\pi y}{b}dy$<br>\n",
    "utilising eq(b) and (c) for $\\int_{y=0}^b\\sin\\frac{n\\pi y}{b}\\sin\\frac{p\\pi y}{b} dy$ term and simplifying,RHS1 becomes <br>\n",
    "$$RHS1 = \\frac{N_o}{D}a_{mp}\\frac{b}{2}(\\frac{m\\pi}{a})^2$$"
   ]
  },
  {
   "cell_type": "markdown",
   "metadata": {},
   "source": [
    "Solving for RHS2<br>\n",
    "$$RHS2 = \\int_{y=0}^b\\sum\\limits_{{n=1}} ^{{\\infty}}\\frac{N_o}{D}\n",
    "(\\frac{m\\pi}{a})^2\\alpha\\frac{y}{b}a_{mn}\\sin\\frac{n\\pi y}{b}\\sin\\frac{p\\pi y}{b}dy $$<br>\n",
    "$\\implies RHS2 =\\sum\\limits_{{n=1}} ^{{\\infty}}\n",
    "(\\frac{m\\pi}{a})^2\\frac{N_o}{D}\\alpha a_{mn} \\frac{1}{2}[\\int_{y=0}^b\\frac{y}{b}\\cos(\\frac{(p-n)y\\pi}{b})dy -\\int_{y=0}^b\\frac{y}{b}\\cos(\\frac{(p+n)y\\pi}{b})dy] $ <br><br>\n",
    "Let $\\frac{y}{b}=y'$ $\\implies dy = bdy'$ <br>\n",
    "$$RHS2 =\\sum\\limits_{{n=1}} ^{{\\infty}}\\frac{N_o}{D}\n",
    "(\\frac{m\\pi}{a})^2\\alpha a_{mn} \\frac{b}{2}[\\int_{y=0}^b y'\\cos(\\frac{(p-n)y'\\pi}{1})dy' -\\int_{y=0}^b y'\\cos(\\frac{(p+n)y'\\pi}{1})dy']$$<br>\n",
    "$$RHS2 =\\sum\\limits_{{n=1}} ^{{\\infty}}\\frac{N_o}{D}\n",
    "(\\frac{m\\pi}{a})^2\\alpha a_{mn} \\frac{b}{2}[I_1 -I_2] \\tag{5}$$\n"
   ]
  },
  {
   "cell_type": "markdown",
   "metadata": {},
   "source": [
    "Solving for Integral $I_1$<br>\n",
    "$$I_1 = [y'\\frac{\\sin(p-n)\\pi y'}{p-n)\\pi} - (-(\\frac{\\cos(p-n)\\pi y'}{(p-n)\\pi)^2})) ]_0^b $$<br> <br>\n",
    "For p$\\neq$n<br>\n",
    "$$I_1 = 0 - \\frac{[1 - (-1)^{p-n}]}{((p-n)\\pi)^2}$$<br>\n",
    "For p = n <br> $I_1$ becomes of form $\\frac{0}{0}$<br>\n",
    "By applying L'Hospitals Rule and taking appropriate limits (n$\\rightarrow$p)<br>\n",
    "We get $$I_1 = \\frac{1}{2}$$"
   ]
  },
  {
   "cell_type": "markdown",
   "metadata": {},
   "source": [
    "Now evaluating 2nd integral $I_2$<br>\n",
    "For p = n case $p+n \\rightarrow$ even number \n",
    "Hence,<br>\n",
    "$$I_2 = y'[\\frac{\\sin(p+n)\\pi y}{(p+n)\\pi}]_{0}^{b} - [\\frac{-\\cos(p+n)\\pi y'}{((p+n)\\pi)^2}]_{0}^{b}$$<br>\n",
    "$$I_2 = 0 - \\frac{(1-1)}{((p+n)\\pi)^2}$$<br>\n",
    "$$\\implies I_2 = 0$$<br>\n",
    "Now, for p$\\neq$n case<br>\n",
    "$$I_2 = y'[\\frac{\\sin(p+n)\\pi y}{(p+n)\\pi}]_{0}^{b} - [\\frac{-\\cos(p+n)\\pi y'}{((p+n)\\pi)^2}]_{0}^{b}$$<br>\n",
    "$$I_2 = 0 - \\frac{(1-(-1)^{p+n})}{((p+n)\\pi)^2}$$"
   ]
  },
  {
   "cell_type": "markdown",
   "metadata": {},
   "source": [
    "Now we substitute $I_1 and I_2$ in equation(5)<br>\n",
    "__For the case of__ $p\\neq n$<br>\n",
    "$$RHS2 =\\sum\\limits_{{n=1}} ^{{\\infty}}\\frac{N_o}{D}\n",
    "(\\frac{m\\pi}{a})^2\\alpha a_{mn} \\frac{b}{2}[- \\frac{[1 - (-1)^{p-n}]}{((p-n)\\pi)^2} -\\frac{(1-(-1)^{p+n})}{((p+n)\\pi)^2}]$$\n",
    "<br>\n",
    "We observe that the above terms exists only when $(p-n)$ and $(p+n)$ are odd <br>Since,<br>\n",
    "when (p-n) and (p+n) are odd\n",
    "$$1-(-1)^{p-n} = 2$$  and $$1-(-1)^{p+n}=2$$\n",
    "else both becomes 0.<br>\n",
    "Hence the RHS2 euation becomes<br>\n",
    "$$RHS2 =\\sum\\limits_{{n=1}} ^{{\\infty}}\\frac{N_o}{D}\n",
    "(\\frac{m\\pi}{a})^2\\alpha a_{mn} \\frac{b}{2}[\\frac{-2(p+n)^2 + 2(p-n)^2}{\\pi^2 ((p+n)(p-n))^2}]$$\n",
    "<br>\n",
    "$$\\implies RHS2 =\\sum\\limits_{{n=1,n\\neq p}} ^{{\\infty}}\n",
    "(\\frac{m\\pi}{a})^2\\alpha a_{mn} \\frac{8b}{2\\pi^2}[\\frac{-pn}{(p^2-n^2)^2}]$$<br><br>\n",
    "__For the case of__ $p = n$<br>\n",
    "$$RHS2 =\\frac{N_o}{D}\n",
    "(\\frac{m\\pi}{a})^2\\alpha a_{mp} \\frac{b}{4}$$"
   ]
  },
  {
   "cell_type": "markdown",
   "metadata": {},
   "source": [
    "We combine both RHS2 terms for $n=p$ and $n\\neq p$ to get the overall expression for all n<br>\n",
    "$$RHS2 =\\frac{N_o}{D}\n",
    "(\\frac{m\\pi}{a})^2\\alpha ( a_{mp}\\frac{b}{4}- \\sum\\limits_{{n=1,n\\neq p}} ^{{\\infty}}\n",
    "a_{mn} \\frac{8b}{2\\pi^2}[\\frac{pn}{(p^2-n^2)^2}])$$"
   ]
  },
  {
   "cell_type": "markdown",
   "metadata": {},
   "source": [
    "Hence, the overall RHS of equation (4) becomes\n",
    "$$RHS = \\frac{N_o}{D}a_{mp}\\frac{b}{2}(\\frac{m\\pi}{a})^2 - \\frac{N_o}{D}\n",
    "(\\frac{m\\pi}{a})^2\\alpha ( a_{mp}\\frac{b}{4}- \\sum\\limits_{{n=1,n\\neq p}} ^{{\\infty}}\n",
    "a_{mn} \\frac{8b}{2\\pi^2}[\\frac{pn}{(p^2-n^2)^2}])  $$"
   ]
  },
  {
   "cell_type": "markdown",
   "metadata": {},
   "source": [
    "And the overall equation becomes<br>\n",
    "$$((\\frac{m\\pi}{a})^2 + (\\frac{p\\pi}{b})^2)^2 a_{mp}\\frac{b}{2} = \\frac{N_o}{D}a_{mp}\\frac{b}{2}(\\frac{m\\pi}{a})^2 - \\frac{N_o}{D}\n",
    "(\\frac{m\\pi}{a})^2\\alpha ( a_{mp}\\frac{b}{4}- \\sum\\limits_{{n=1,n\\neq p}} ^{{\\infty}}\n",
    "a_{mn} \\frac{8b}{2\\pi^2}[\\frac{pn}{(p^2-n^2)^2}]) $$"
   ]
  },
  {
   "cell_type": "markdown",
   "metadata": {},
   "source": [
    "Simplifying above equation<br>\n",
    "$$((\\frac{m\\pi}{a})^2 + (\\frac{p\\pi}{b})^2)^2 a_{mp} = \\frac{N_o}{D}(\\frac{m\\pi}{a})^2[a_{mp} + \\alpha\\frac{-a_{mp}}{2} + \\sum\\limits_{{n=1,n\\neq p}} ^{{\\infty}} \\alpha a_{mn}\\frac{8}{\\pi^2}\\frac{pn}{(p^2-n^2)^2}] \\tag{6} $$"
   ]
  },
  {
   "cell_type": "markdown",
   "metadata": {},
   "source": [
    "We perform the following substitutions in above equation(6)<br>\n",
    "$$p\\rightarrow n$$ and\n",
    "$$n\\rightarrow p$$\n",
    "and simplify equation(6) Our final equation becomes"
   ]
  },
  {
   "cell_type": "markdown",
   "metadata": {},
   "source": [
    "$$a_{mn}[(1 + \\frac{n^2}{m^2} \\frac{a^2}{b^2})^2 - (\\frac{a}{m\\pi})^2\\frac{N_o}{D} (1-\\frac{\\alpha}{2})] -8\\alpha(\\frac{a}{m})^2\\frac{N_o}{D\\pi^4}\\sum\\limits_{{p=1,p\\neq n}} ^{{\\infty}}a_{mp}\\frac{np}{(n^2-p^2)^2}=0\\tag{7} $$$$"
   ]
  },
  {
   "cell_type": "code",
   "execution_count": 7,
   "metadata": {},
   "outputs": [
    {
     "data": {
      "text/latex": [
       "$\\displaystyle a_{mn} \\left(\\left(\\frac{a^{2} n^{2}}{b^{2} m^{2}} + 1\\right)^{2} - \\frac{N_{o} a^{2} \\left(1 - \\frac{\\alpha}{2}\\right)}{\\pi^{2} D m^{2}}\\right) - \\frac{8 N_{o} a^{2} \\alpha \\sum_{p=1}^{\\infty} \\frac{a_{mp} n p}{\\left(n^{2} - p^{2}\\right)^{2}}}{\\pi^{4} D m^{2}} = 0$"
      ],
      "text/plain": [
       "Eq(a_mn*((a**2*n**2/(b**2*m**2) + 1)**2 - N_o*a**2*(1 - alpha/2)/(pi**2*D*m**2)) - 8*N_o*a**2*alpha*Sum(a_mp*n*p/(n**2 - p**2)**2, (p, 1, oo))/(pi**4*D*m**2), 0)"
      ]
     },
     "metadata": {},
     "output_type": "display_data"
    }
   ],
   "source": [
    "from sympy import Sum,oo\n",
    "p,Amp,Am1 =sym.symbols('p,a_mp,a_m1')\n",
    "lhs = Amn*((((1+(n/m)**2*(a/b)**2))**2-((a/(m*sym.pi))**2)*(No/D)*(1-alpha/2)))-8*alpha*(a/m)**2*(No/(D*sym.pi**4))*Sum((Amp*n*p/(n**2-p**2)**2),(p,1,oo))\n",
    "eqn = sym.Eq(lhs,0)\n",
    "display(eqn)"
   ]
  },
  {
   "cell_type": "markdown",
   "metadata": {},
   "source": [
    "For first approximation substituting n=1 in the above equation the last term vanishes.\n",
    "The remaining equation will be,"
   ]
  },
  {
   "cell_type": "code",
   "execution_count": 8,
   "metadata": {},
   "outputs": [
    {
     "data": {
      "text/latex": [
       "$\\displaystyle a_{m1} \\left(\\left(\\frac{a^{2}}{b^{2} m^{2}} + 1\\right)^{2} - \\frac{N_{o} a^{2} \\left(1 - \\frac{\\alpha}{2}\\right)}{\\pi^{2} D m^{2}}\\right) = 0$"
      ],
      "text/plain": [
       "Eq(a_m1*((a**2/(b**2*m**2) + 1)**2 - N_o*a**2*(1 - alpha/2)/(pi**2*D*m**2)), 0)"
      ]
     },
     "metadata": {},
     "output_type": "display_data"
    }
   ],
   "source": [
    "lhs1 = Am1*((((1+(1/m)**2*(a/b)**2))**2-((a/(m*sym.pi))**2)*(No/D)*(1-alpha/2)))\n",
    "eqn1 = sym.Eq(lhs1,0)\n",
    "display(eqn1)"
   ]
  },
  {
   "cell_type": "code",
   "execution_count": 9,
   "metadata": {},
   "outputs": [
    {
     "data": {
      "text/latex": [
       "$\\displaystyle - \\frac{2 \\pi^{2} D \\left(a^{2} + b^{2} m^{2}\\right)^{2}}{a^{2} b^{4} m^{2} \\left(\\alpha - 2\\right)}$"
      ],
      "text/plain": [
       "-2*pi**2*D*(a**2 + b**2*m**2)**2/(a**2*b**4*m**2*(alpha - 2))"
      ]
     },
     "execution_count": 9,
     "metadata": {},
     "output_type": "execute_result"
    }
   ],
   "source": [
    "sol = sym.solve(eqn1,No)\n",
    "No1=sol[0]\n",
    "No1"
   ]
  },
  {
   "cell_type": "markdown",
   "metadata": {},
   "source": [
    "for pure compression $\\alpha$ = 0"
   ]
  },
  {
   "cell_type": "code",
   "execution_count": 10,
   "metadata": {},
   "outputs": [
    {
     "data": {
      "text/latex": [
       "$\\displaystyle N0_{cr} = \\frac{\\pi^{2} D \\left(a^{2} + b^{2} m^{2}\\right)^{2}}{a^{2} b^{4} m^{2}}$"
      ],
      "text/plain": [
       "<IPython.core.display.Math object>"
      ]
     },
     "metadata": {},
     "output_type": "display_data"
    }
   ],
   "source": [
    "No_crit = No1.subs(alpha,0).simplify()\n",
    "display(Math(r'N0_{{cr}} = {}'.format(sym.latex(No_crit))))"
   ]
  },
  {
   "cell_type": "markdown",
   "metadata": {},
   "source": [
    "This is same as obtained in Timoshenko"
   ]
  },
  {
   "cell_type": "markdown",
   "metadata": {},
   "source": [
    "2nd approximation\n",
    "substituting n=1 in equation (7)"
   ]
  },
  {
   "cell_type": "markdown",
   "metadata": {},
   "source": [
    "$$a_{m1}[(1 + \\frac{1}{m^2} \\frac{a^2}{b^2})^2 - (\\frac{a}{m\\pi})^2\\frac{N_o}{D} (1-\\frac{\\alpha}{2})] -8\\alpha(\\frac{a}{m})^2\\frac{N_o}{D\\pi^4}a_{m2}\\frac{1*2}{(1^2-2^2)^2}=0\\tag{8}$$"
   ]
  },
  {
   "cell_type": "markdown",
   "metadata": {},
   "source": [
    "substituting n=2 in equation(7)"
   ]
  },
  {
   "cell_type": "markdown",
   "metadata": {},
   "source": [
    "$$a_{m2}[(1 + \\frac{4}{m^2} \\frac{a^2}{b^2})^2 - (\\frac{a}{m\\pi})^2\\frac{N_o}{D} (1-\\frac{\\alpha}{2})] -8\\alpha(\\frac{a}{m})^2\\frac{N_o}{D\\pi^4}a_{m1}\\frac{2*1}{(2^2-1^2)^2}=0\\tag{9}$$"
   ]
  },
  {
   "cell_type": "markdown",
   "metadata": {},
   "source": [
    "from equations 8 and 9 we can write \n",
    "\n"
   ]
  },
  {
   "cell_type": "markdown",
   "metadata": {},
   "source": [
    "$[C]\\begin{bmatrix} \n",
    "a_{m1} \\\\\n",
    "a_{m2}\n",
    "\\end{bmatrix}$ = 0"
   ]
  },
  {
   "cell_type": "markdown",
   "metadata": {},
   "source": [
    "In order to have non trivial solutions |C| = 0"
   ]
  },
  {
   "cell_type": "code",
   "execution_count": 11,
   "metadata": {},
   "outputs": [
    {
     "data": {
      "text/latex": [
       "$\\displaystyle \\left[\\begin{matrix}\\left(\\frac{a^{2}}{b^{2} m^{2}} + 1\\right)^{2} - \\frac{N_{o} a^{2} \\left(1 - \\frac{\\alpha}{2}\\right)}{\\pi^{2} D m^{2}} & - \\frac{16 N_{o} a^{2} \\alpha}{9 \\pi^{4} D m^{2}}\\\\- \\frac{16 N_{o} a^{2} \\alpha}{9 \\pi^{4} D m^{2}} & \\left(\\frac{16 a^{2}}{b^{2} m^{2}} + 1\\right)^{2} - \\frac{N_{o} a^{2} \\left(1 - \\frac{\\alpha}{2}\\right)}{\\pi^{2} D m^{2}}\\end{matrix}\\right]$"
      ],
      "text/plain": [
       "Matrix([\n",
       "[(a**2/(b**2*m**2) + 1)**2 - N_o*a**2*(1 - alpha/2)/(pi**2*D*m**2),                                  -16*N_o*a**2*alpha/(9*pi**4*D*m**2)],\n",
       "[                              -16*N_o*a**2*alpha/(9*pi**4*D*m**2), (16*a**2/(b**2*m**2) + 1)**2 - N_o*a**2*(1 - alpha/2)/(pi**2*D*m**2)]])"
      ]
     },
     "metadata": {},
     "output_type": "display_data"
    }
   ],
   "source": [
    "from sympy import Matrix\n",
    "C = Matrix([[(((1+(1/m)**2*(a/b)**2))**2-((a/(m*sym.pi))**2)*(No/D)*(1-alpha/2)), -8*alpha*(a/m)**2*(No/(D*sym.pi**4))*2/9],[-8*alpha*(a/m)**2*(No/(D*sym.pi**4))*2/9,(((1+(4/m)**2*(a/b)**2))**2-((a/(m*sym.pi))**2)*(No/D)*(1-alpha/2))]])\n",
    "display(C)"
   ]
  },
  {
   "cell_type": "code",
   "execution_count": 12,
   "metadata": {},
   "outputs": [
    {
     "data": {
      "text/latex": [
       "$\\displaystyle \\frac{256 a^{8}}{b^{8} m^{8}} + \\frac{544 a^{6}}{b^{6} m^{6}} + \\frac{321 a^{4}}{b^{4} m^{4}} + \\frac{34 a^{2}}{b^{2} m^{2}} + 1 + \\frac{257 N_{o} a^{6} \\alpha}{2 \\pi^{2} D b^{4} m^{6}} - \\frac{257 N_{o} a^{6}}{\\pi^{2} D b^{4} m^{6}} + \\frac{17 N_{o} a^{4} \\alpha}{\\pi^{2} D b^{2} m^{4}} - \\frac{34 N_{o} a^{4}}{\\pi^{2} D b^{2} m^{4}} + \\frac{N_{o} a^{2} \\alpha}{\\pi^{2} D m^{2}} - \\frac{2 N_{o} a^{2}}{\\pi^{2} D m^{2}} - \\frac{256 N_{o}^{2} a^{4} \\alpha^{2}}{81 \\pi^{8} D^{2} m^{4}} + \\frac{N_{o}^{2} a^{4} \\alpha^{2}}{4 \\pi^{4} D^{2} m^{4}} - \\frac{N_{o}^{2} a^{4} \\alpha}{\\pi^{4} D^{2} m^{4}} + \\frac{N_{o}^{2} a^{4}}{\\pi^{4} D^{2} m^{4}} = 0$"
      ],
      "text/plain": [
       "Eq(256*a**8/(b**8*m**8) + 544*a**6/(b**6*m**6) + 321*a**4/(b**4*m**4) + 34*a**2/(b**2*m**2) + 1 + 257*N_o*a**6*alpha/(2*pi**2*D*b**4*m**6) - 257*N_o*a**6/(pi**2*D*b**4*m**6) + 17*N_o*a**4*alpha/(pi**2*D*b**2*m**4) - 34*N_o*a**4/(pi**2*D*b**2*m**4) + N_o*a**2*alpha/(pi**2*D*m**2) - 2*N_o*a**2/(pi**2*D*m**2) - 256*N_o**2*a**4*alpha**2/(81*pi**8*D**2*m**4) + N_o**2*a**4*alpha**2/(4*pi**4*D**2*m**4) - N_o**2*a**4*alpha/(pi**4*D**2*m**4) + N_o**2*a**4/(pi**4*D**2*m**4), 0)"
      ]
     },
     "metadata": {},
     "output_type": "display_data"
    }
   ],
   "source": [
    "lhs2 = C.det().simplify()\n",
    "eqn2 = sym.Eq(lhs2,0)\n",
    "display(eqn2)"
   ]
  },
  {
   "cell_type": "code",
   "execution_count": 13,
   "metadata": {},
   "outputs": [
    {
     "data": {
      "text/latex": [
       "$\\displaystyle - \\frac{9 \\pi^{4} D \\left(- 2313 \\pi^{2} a^{4} \\alpha + 4626 \\pi^{2} a^{4} - 306 \\pi^{2} a^{2} \\alpha b^{2} m^{2} + 612 \\pi^{2} a^{2} b^{2} m^{2} - 18 \\pi^{2} \\alpha b^{4} m^{4} + 36 \\pi^{2} b^{4} m^{4} + \\sqrt{1048576 a^{8} \\alpha^{2} + 5267025 \\pi^{4} a^{8} \\alpha^{2} - 21068100 \\pi^{4} a^{8} \\alpha + 21068100 \\pi^{4} a^{8} + 2228224 a^{6} \\alpha^{2} b^{2} m^{2} + 1239300 \\pi^{4} a^{6} \\alpha^{2} b^{2} m^{2} - 4957200 \\pi^{4} a^{6} \\alpha b^{2} m^{2} + 4957200 \\pi^{4} a^{6} b^{2} m^{2} + 1314816 a^{4} \\alpha^{2} b^{4} m^{4} + 72900 \\pi^{4} a^{4} \\alpha^{2} b^{4} m^{4} - 291600 \\pi^{4} a^{4} \\alpha b^{4} m^{4} + 291600 \\pi^{4} a^{4} b^{4} m^{4} + 139264 a^{2} \\alpha^{2} b^{6} m^{6} + 4096 \\alpha^{2} b^{8} m^{8}}\\right)}{a^{2} b^{4} m^{2} \\left(- 81 \\pi^{4} \\alpha^{2} + 1024 \\alpha^{2} + 324 \\pi^{4} \\alpha - 324 \\pi^{4}\\right)}$"
      ],
      "text/plain": [
       "-9*pi**4*D*(-2313*pi**2*a**4*alpha + 4626*pi**2*a**4 - 306*pi**2*a**2*alpha*b**2*m**2 + 612*pi**2*a**2*b**2*m**2 - 18*pi**2*alpha*b**4*m**4 + 36*pi**2*b**4*m**4 + sqrt(1048576*a**8*alpha**2 + 5267025*pi**4*a**8*alpha**2 - 21068100*pi**4*a**8*alpha + 21068100*pi**4*a**8 + 2228224*a**6*alpha**2*b**2*m**2 + 1239300*pi**4*a**6*alpha**2*b**2*m**2 - 4957200*pi**4*a**6*alpha*b**2*m**2 + 4957200*pi**4*a**6*b**2*m**2 + 1314816*a**4*alpha**2*b**4*m**4 + 72900*pi**4*a**4*alpha**2*b**4*m**4 - 291600*pi**4*a**4*alpha*b**4*m**4 + 291600*pi**4*a**4*b**4*m**4 + 139264*a**2*alpha**2*b**6*m**6 + 4096*alpha**2*b**8*m**8))/(a**2*b**4*m**2*(-81*pi**4*alpha**2 + 1024*alpha**2 + 324*pi**4*alpha - 324*pi**4))"
      ]
     },
     "execution_count": 13,
     "metadata": {},
     "output_type": "execute_result"
    }
   ],
   "source": [
    "sol2 = sym.solve(eqn2,No)\n",
    "No2=sol2[0].simplify()\n",
    "No2"
   ]
  },
  {
   "cell_type": "markdown",
   "metadata": {},
   "source": [
    "Third approximation\n",
    "Substituting n=1 in equation (7)"
   ]
  },
  {
   "cell_type": "markdown",
   "metadata": {},
   "source": [
    "$$a_{m1}[(1 + \\frac{1}{m^2} \\frac{a^2}{b^2})^2 - (\\frac{a}{m\\pi})^2\\frac{N_o}{D} (1-\\frac{\\alpha}{2})] -8\\alpha(\\frac{a}{m})^2\\frac{N_o}{D\\pi^4}a_{m2}\\frac{1*2}{(1^2-2^2)^2}-8\\alpha(\\frac{a}{m})^2\\frac{N_o}{D\\pi^4}a_{m3}\\frac{1*3}{(1^2-3^2)^2}=0\\tag{10}$$"
   ]
  },
  {
   "cell_type": "markdown",
   "metadata": {},
   "source": [
    "substituting n=2 in equation(7)"
   ]
  },
  {
   "cell_type": "markdown",
   "metadata": {},
   "source": [
    "$$a_{m2}[(1 + \\frac{4}{m^2} \\frac{a^2}{b^2})^2 - (\\frac{a}{m\\pi})^2\\frac{N_o}{D} (1-\\frac{\\alpha}{2})] -8\\alpha(\\frac{a}{m})^2\\frac{N_o}{D\\pi^4}a_{m1}\\frac{2*1}{(2^2-1^2)^2}-8\\alpha(\\frac{a}{m})^2\\frac{N_o}{D\\pi^4}a_{m3}\\frac{2*3}{(2^2-3^2)^2}=0\\tag{11}$$"
   ]
  },
  {
   "cell_type": "markdown",
   "metadata": {},
   "source": [
    "substituting n=3 in equation(7)"
   ]
  },
  {
   "cell_type": "markdown",
   "metadata": {},
   "source": [
    "$$a_{m3}[(1 + \\frac{9}{m^2} \\frac{a^2}{b^2})^2 - (\\frac{a}{m\\pi})^2\\frac{N_o}{D} (1-\\frac{\\alpha}{2})] -8\\alpha(\\frac{a}{m})^2\\frac{N_o}{D\\pi^4}a_{m1}\\frac{3*1}{(3^2-1^2)^2}-8\\alpha(\\frac{a}{m})^2\\frac{N_o}{D\\pi^4}a_{m2}\\frac{3*2}{(3^2-2^2)^2}=0\\tag{12}$$"
   ]
  },
  {
   "cell_type": "markdown",
   "metadata": {},
   "source": [
    "from equations 10,11 and 12 we can write"
   ]
  },
  {
   "cell_type": "markdown",
   "metadata": {},
   "source": [
    "$[G]\\begin{bmatrix} \n",
    "a_{m1} \\\\\n",
    "a_{m2} \\\\\n",
    "a_{m3}\n",
    "\\end{bmatrix}$ = 0"
   ]
  },
  {
   "cell_type": "code",
   "execution_count": 14,
   "metadata": {},
   "outputs": [
    {
     "data": {
      "text/latex": [
       "$\\displaystyle \\left[\\begin{matrix}\\left(\\frac{a^{2}}{b^{2} m^{2}} + 1\\right)^{2} - \\frac{N_{o} a^{2} \\left(1 - \\frac{\\alpha}{2}\\right)}{\\pi^{2} D m^{2}} & - \\frac{16 N_{o} a^{2} \\alpha}{9 \\pi^{4} D m^{2}} & 0\\\\- \\frac{16 N_{o} a^{2} \\alpha}{9 \\pi^{4} D m^{2}} & \\left(\\frac{16 a^{2}}{b^{2} m^{2}} + 1\\right)^{2} - \\frac{N_{o} a^{2} \\left(1 - \\frac{\\alpha}{2}\\right)}{\\pi^{2} D m^{2}} & - \\frac{48 N_{o} a^{2} \\alpha}{25 \\pi^{4} D m^{2}}\\\\0 & - \\frac{48 N_{o} a^{2} \\alpha}{25 \\pi^{4} D m^{2}} & \\left(\\frac{81 a^{2}}{b^{2} m^{2}} + 1\\right)^{2} - \\frac{N_{o} a^{2} \\left(1 - \\frac{\\alpha}{2}\\right)}{\\pi^{2} D m^{2}}\\end{matrix}\\right]$"
      ],
      "text/plain": [
       "Matrix([\n",
       "[(a**2/(b**2*m**2) + 1)**2 - N_o*a**2*(1 - alpha/2)/(pi**2*D*m**2),                                  -16*N_o*a**2*alpha/(9*pi**4*D*m**2),                                                                    0],\n",
       "[                              -16*N_o*a**2*alpha/(9*pi**4*D*m**2), (16*a**2/(b**2*m**2) + 1)**2 - N_o*a**2*(1 - alpha/2)/(pi**2*D*m**2),                                 -48*N_o*a**2*alpha/(25*pi**4*D*m**2)],\n",
       "[                                                                0,                                 -48*N_o*a**2*alpha/(25*pi**4*D*m**2), (81*a**2/(b**2*m**2) + 1)**2 - N_o*a**2*(1 - alpha/2)/(pi**2*D*m**2)]])"
      ]
     },
     "metadata": {},
     "output_type": "display_data"
    }
   ],
   "source": [
    "G = Matrix([[(((1+(1/m)**2*(a/b)**2))**2-((a/(m*sym.pi))**2)*(No/D)*(1-alpha/2)), -8*alpha*(a/m)**2*(No/(D*sym.pi**4))*2/9 , 0 ],[-8*alpha*(a/m)**2*(No/(D*sym.pi**4))*2/9,(((1+(4/m)**2*(a/b)**2))**2-((a/(m*sym.pi))**2)*(No/D)*(1-alpha/2)), -8*alpha*(a/m)**2*(No/(D*sym.pi**4))*6/25],[ 0 , -8*alpha*(a/m)**2*(No/(D*sym.pi**4))*6/25,(((1+(9/m)**2*(a/b)**2))**2-((a/(m*sym.pi))**2)*(No/D)*(1-alpha/2))]])\n",
    "display(G)"
   ]
  },
  {
   "cell_type": "code",
   "execution_count": 46,
   "metadata": {},
   "outputs": [
    {
     "data": {
      "text/latex": [
       "$\\displaystyle am_{1} \\left(\\left(\\frac{a^{2}}{b^{2} m^{2}} + 1\\right)^{2} - \\frac{N_{o} a^{2} \\left(1 - \\frac{\\alpha}{2}\\right)}{\\pi^{2} D m^{2}}\\right) - \\frac{16 N_{o} a^{2} \\alpha am_{2}}{9 \\pi^{4} D m^{2}}$"
      ],
      "text/plain": [
       "am_1*((a**2/(b**2*m**2) + 1)**2 - N_o*a**2*(1 - alpha/2)/(pi**2*D*m**2)) - 16*N_o*a**2*alpha*am_2/(9*pi**4*D*m**2)"
      ]
     },
     "metadata": {},
     "output_type": "display_data"
    },
    {
     "data": {
      "text/latex": [
       "$\\displaystyle am_{2} \\left(\\left(\\frac{16 a^{2}}{b^{2} m^{2}} + 1\\right)^{2} - \\frac{N_{o} a^{2} \\left(1 - \\frac{\\alpha}{2}\\right)}{\\pi^{2} D m^{2}}\\right) - \\frac{16 N_{o} a^{2} \\alpha am_{1}}{9 \\pi^{4} D m^{2}} - \\frac{48 N_{o} a^{2} \\alpha am_{3}}{25 \\pi^{4} D m^{2}}$"
      ],
      "text/plain": [
       "am_2*((16*a**2/(b**2*m**2) + 1)**2 - N_o*a**2*(1 - alpha/2)/(pi**2*D*m**2)) - 16*N_o*a**2*alpha*am_1/(9*pi**4*D*m**2) - 48*N_o*a**2*alpha*am_3/(25*pi**4*D*m**2)"
      ]
     },
     "metadata": {},
     "output_type": "display_data"
    },
    {
     "data": {
      "text/latex": [
       "$\\displaystyle am_{3} \\left(\\left(\\frac{81 a^{2}}{b^{2} m^{2}} + 1\\right)^{2} - \\frac{N_{o} a^{2} \\left(1 - \\frac{\\alpha}{2}\\right)}{\\pi^{2} D m^{2}}\\right) - \\frac{48 N_{o} a^{2} \\alpha am_{2}}{25 \\pi^{4} D m^{2}}$"
      ],
      "text/plain": [
       "am_3*((81*a**2/(b**2*m**2) + 1)**2 - N_o*a**2*(1 - alpha/2)/(pi**2*D*m**2)) - 48*N_o*a**2*alpha*am_2/(25*pi**4*D*m**2)"
      ]
     },
     "metadata": {},
     "output_type": "display_data"
    }
   ],
   "source": [
    "am1,am2,am3 = sym.symbols('am_1,am_2,am_3')\n",
    "eq1 = G[0,0]*am1+G[0,1]*am2\n",
    "eq2 = G[1,0]*am1+G[1,1]*am2 + G[1,2]*am3\n",
    "eq3 = G[2,1]*am2 +G[2,2]*am3\n",
    "display(eq1,eq2,eq3)"
   ]
  },
  {
   "cell_type": "code",
   "execution_count": 54,
   "metadata": {},
   "outputs": [
    {
     "data": {
      "text/latex": [
       "$\\displaystyle \\frac{9 \\pi^{4} D am_{1} \\left(a^{2} + b^{2} m^{2}\\right)^{2}}{16 N_{o} a^{2} \\alpha b^{4} m^{2}} + \\frac{9 \\pi^{2} am_{1}}{32} - \\frac{9 \\pi^{2} am_{1}}{16 \\alpha}$"
      ],
      "text/plain": [
       "9*pi**4*D*am_1*(a**2 + b**2*m**2)**2/(16*N_o*a**2*alpha*b**4*m**2) + 9*pi**2*am_1/32 - 9*pi**2*am_1/(16*alpha)"
      ]
     },
     "metadata": {},
     "output_type": "display_data"
    },
    {
     "data": {
      "text/latex": [
       "$\\displaystyle \\frac{27 am_{1} \\left(2 \\pi^{2} D \\left(a^{2} + b^{2} m^{2}\\right)^{2} + N_{o} a^{2} \\alpha b^{4} m^{2} - 2 N_{o} a^{2} b^{4} m^{2}\\right)}{25 \\left(2 \\pi^{2} D \\left(81 a^{2} + b^{2} m^{2}\\right)^{2} + N_{o} a^{2} \\alpha b^{4} m^{2} - 2 N_{o} a^{2} b^{4} m^{2}\\right)}$"
      ],
      "text/plain": [
       "27*am_1*(2*pi**2*D*(a**2 + b**2*m**2)**2 + N_o*a**2*alpha*b**4*m**2 - 2*N_o*a**2*b**4*m**2)/(25*(2*pi**2*D*(81*a**2 + b**2*m**2)**2 + N_o*a**2*alpha*b**4*m**2 - 2*N_o*a**2*b**4*m**2))"
      ]
     },
     "metadata": {},
     "output_type": "display_data"
    }
   ],
   "source": [
    "am2s = sym.solve(eq1,am2)\n",
    "eq4 = eq3.subs(am2,am2s[0])\n",
    "am3s=sym.solve(eq4,am3)\n",
    "display(am2s[0],am3s[0])"
   ]
  },
  {
   "cell_type": "code",
   "execution_count": null,
   "metadata": {},
   "outputs": [],
   "source": []
  }
 ],
 "metadata": {
  "kernelspec": {
   "display_name": "Python 3",
   "language": "python",
   "name": "python3"
  },
  "language_info": {
   "codemirror_mode": {
    "name": "ipython",
    "version": 3
   },
   "file_extension": ".py",
   "mimetype": "text/x-python",
   "name": "python",
   "nbconvert_exporter": "python",
   "pygments_lexer": "ipython3",
   "version": "3.8.3"
  }
 },
 "nbformat": 4,
 "nbformat_minor": 4
}
